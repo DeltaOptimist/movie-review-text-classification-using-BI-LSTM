{
  "nbformat": 4,
  "nbformat_minor": 0,
  "metadata": {
    "colab": {
      "name": " movie review (text classification) using BI-LSTM.ipynb",
      "provenance": []
    },
    "kernelspec": {
      "name": "python3",
      "display_name": "Python 3"
    },
    "language_info": {
      "name": "python"
    }
  },
  "cells": [
    {
      "cell_type": "code",
      "execution_count": 1,
      "metadata": {
        "id": "wGIT-1QR4lrC"
      },
      "outputs": [],
      "source": [
        "import numpy as np\n",
        "from keras.models import Sequential\n",
        "from keras.preprocessing import sequence\n",
        "from keras.layers import Dropout\n",
        "from keras.layers import  Dense, Embedding, LSTM, Bidirectional"
      ]
    },
    {
      "cell_type": "markdown",
      "source": [
        "Importing the dataset\n",
        "\n",
        "Loading IMDB standard dataset using the Keras dataset class."
      ],
      "metadata": {
        "id": "vQQeyxF9CrW0"
      }
    },
    {
      "cell_type": "code",
      "source": [
        "from keras.datasets import imdb\n",
        "(x_train, y_train),(x_test, y_test) = imdb.load_data(num_words=10000)"
      ],
      "metadata": {
        "colab": {
          "base_uri": "https://localhost:8080/"
        },
        "id": "3cVnyz7sCejD",
        "outputId": "630c5447-552a-4e62-cd55-cc254c739cea"
      },
      "execution_count": 2,
      "outputs": [
        {
          "output_type": "stream",
          "name": "stdout",
          "text": [
            "Downloading data from https://storage.googleapis.com/tensorflow/tf-keras-datasets/imdb.npz\n",
            "17465344/17464789 [==============================] - 0s 0us/step\n",
            "17473536/17464789 [==============================] - 0s 0us/step\n"
          ]
        }
      ]
    },
    {
      "cell_type": "markdown",
      "source": [
        "Feature Extraction\n",
        "\n",
        "Since we have text data in x_train and x_test of having an uneven length. Our goal is to convert this text data into a numerical form in order to feed it into the model.\n",
        "\n",
        "Make the length of texts equal using padding.\n",
        "\n",
        "We are defining max_len = 200. If a sentence is having a length greater than 200 it will be trimmed off otherwise it will be padded by 0."
      ],
      "metadata": {
        "id": "hXrWkxiGCx3L"
      }
    },
    {
      "cell_type": "code",
      "source": [
        "max_len = 200\n",
        "x_train = sequence.pad_sequences(x_train, maxlen=max_len)\n",
        "x_test = sequence.pad_sequences(x_test, maxlen=max_len)\n",
        "y_test = np.array(y_test)\n",
        "y_train = np.array(y_train)"
      ],
      "metadata": {
        "id": "8bo_28fcCuBd"
      },
      "execution_count": 4,
      "outputs": []
    },
    {
      "cell_type": "code",
      "source": [
        "x_train.shape, y_train.shape"
      ],
      "metadata": {
        "colab": {
          "base_uri": "https://localhost:8080/"
        },
        "id": "Rh_dTILCC47F",
        "outputId": "ffdccaa9-a915-41e7-f86c-2b0a7355a7b9"
      },
      "execution_count": 5,
      "outputs": [
        {
          "output_type": "execute_result",
          "data": {
            "text/plain": [
              "((25000, 200), (25000,))"
            ]
          },
          "metadata": {},
          "execution_count": 5
        }
      ]
    },
    {
      "cell_type": "code",
      "source": [
        "x_test.shape, y_test.shape"
      ],
      "metadata": {
        "colab": {
          "base_uri": "https://localhost:8080/"
        },
        "id": "DDkBprx4DHFy",
        "outputId": "a8487b25-0d41-43f1-8a03-80cb768a131a"
      },
      "execution_count": 6,
      "outputs": [
        {
          "output_type": "execute_result",
          "data": {
            "text/plain": [
              "((25000, 200), (25000,))"
            ]
          },
          "metadata": {},
          "execution_count": 6
        }
      ]
    },
    {
      "cell_type": "markdown",
      "source": [
        "Designing the Bi-directional LSTM \n",
        "\n",
        "\n",
        "You can either use Sequential or Functional API to create the model. here we are using Sequential API.\n",
        "\n"
      ],
      "metadata": {
        "id": "7s5tcPPvDiaR"
      }
    },
    {
      "cell_type": "code",
      "source": [
        "n_unique_words= 10000\n",
        "\n",
        "model = Sequential()\n",
        "model.add(Embedding(n_unique_words, 128, input_length=max_len))\n",
        "model.add(Bidirectional(LSTM(64)))\n",
        "model.add(Dropout(0.5))\n",
        "model.add(Dense(1, activation='sigmoid'))\n",
        "model.compile(loss='binary_crossentropy', optimizer='adam', metrics=['accuracy'])"
      ],
      "metadata": {
        "id": "AA7iNzklDLug"
      },
      "execution_count": 10,
      "outputs": []
    },
    {
      "cell_type": "markdown",
      "source": [
        "input_length = maxlen Since we have already made all sentences in our dataset have an equal length of 200 using pad_sequence.\n",
        "\n",
        "The Embedding layer takes n_unique_words as the size of the vocabulary in our dataset which we already declared as 10000.\n",
        "\n",
        "After the Embedding layer, we are adding Bi-directional LSTM units.\n",
        "Using sigmoid activation and then compiling the model"
      ],
      "metadata": {
        "id": "0IAeQr0DEiT1"
      }
    },
    {
      "cell_type": "markdown",
      "source": [
        "Training the model\n",
        "\n",
        "We have prepared our dataset and model not calling the fit method to train our model."
      ],
      "metadata": {
        "id": "uKZ-q1X6Enmb"
      }
    },
    {
      "cell_type": "code",
      "source": [
        "batch_size= 250\n",
        "\n",
        "history=model.fit(x_train, y_train,\n",
        "           batch_size=batch_size,\n",
        "           epochs=12,\n",
        "           validation_data=[x_test, y_test])\n",
        "print(history.history['loss'])\n",
        "print(history.history['accuracy'])"
      ],
      "metadata": {
        "colab": {
          "base_uri": "https://localhost:8080/"
        },
        "id": "-YpEyK5JDoQu",
        "outputId": "39ee8361-be12-42ff-8e8d-0fead1351393"
      },
      "execution_count": 13,
      "outputs": [
        {
          "output_type": "stream",
          "name": "stdout",
          "text": [
            "Epoch 1/12\n",
            "100/100 [==============================] - 149s 1s/step - loss: 0.3790 - accuracy: 0.8480 - val_loss: 0.3111 - val_accuracy: 0.8699\n",
            "Epoch 2/12\n",
            "100/100 [==============================] - 146s 1s/step - loss: 0.2340 - accuracy: 0.9156 - val_loss: 0.3197 - val_accuracy: 0.8675\n",
            "Epoch 3/12\n",
            "100/100 [==============================] - 147s 1s/step - loss: 0.1820 - accuracy: 0.9370 - val_loss: 0.3122 - val_accuracy: 0.8702\n",
            "Epoch 4/12\n",
            "100/100 [==============================] - 145s 1s/step - loss: 0.1394 - accuracy: 0.9534 - val_loss: 0.3520 - val_accuracy: 0.8646\n",
            "Epoch 5/12\n",
            "100/100 [==============================] - 146s 1s/step - loss: 0.1065 - accuracy: 0.9652 - val_loss: 0.4495 - val_accuracy: 0.8550\n",
            "Epoch 6/12\n",
            "100/100 [==============================] - 144s 1s/step - loss: 0.0899 - accuracy: 0.9717 - val_loss: 0.4798 - val_accuracy: 0.8585\n",
            "Epoch 7/12\n",
            "100/100 [==============================] - 144s 1s/step - loss: 0.0812 - accuracy: 0.9741 - val_loss: 0.5047 - val_accuracy: 0.8525\n",
            "Epoch 8/12\n",
            "100/100 [==============================] - 147s 1s/step - loss: 0.0708 - accuracy: 0.9783 - val_loss: 0.5016 - val_accuracy: 0.8570\n",
            "Epoch 9/12\n",
            "100/100 [==============================] - 148s 1s/step - loss: 0.0625 - accuracy: 0.9806 - val_loss: 0.6712 - val_accuracy: 0.8453\n",
            "Epoch 10/12\n",
            "100/100 [==============================] - 146s 1s/step - loss: 0.0420 - accuracy: 0.9876 - val_loss: 0.6316 - val_accuracy: 0.8518\n",
            "Epoch 11/12\n",
            "100/100 [==============================] - 146s 1s/step - loss: 0.0399 - accuracy: 0.9888 - val_loss: 0.5446 - val_accuracy: 0.8536\n",
            "Epoch 12/12\n",
            "100/100 [==============================] - 147s 1s/step - loss: 0.0485 - accuracy: 0.9855 - val_loss: 0.6138 - val_accuracy: 0.8519\n",
            "[0.3790285587310791, 0.23399551212787628, 0.18203632533550262, 0.13937026262283325, 0.10652648657560349, 0.08985056728124619, 0.08117213100194931, 0.07075642049312592, 0.06245700642466545, 0.042024511843919754, 0.039904240518808365, 0.048478130251169205]\n",
            "[0.8479999899864197, 0.9155600070953369, 0.9369999766349792, 0.9534400105476379, 0.9652400016784668, 0.9717199802398682, 0.9740800261497498, 0.9783200025558472, 0.9805600047111511, 0.987559974193573, 0.9887999892234802, 0.985480010509491]\n"
          ]
        }
      ]
    },
    {
      "cell_type": "code",
      "source": [
        "from matplotlib import pyplot\n",
        "pyplot.plot(history.history['loss'])\n",
        "pyplot.plot(history.history['accuracy'])\n",
        "pyplot.title('model loss vs accuracy')\n",
        "pyplot.xlabel('epoch')\n",
        "pyplot.legend(['loss', 'accuracy'], loc='upper right')\n",
        "pyplot.show()"
      ],
      "metadata": {
        "colab": {
          "base_uri": "https://localhost:8080/",
          "height": 295
        },
        "id": "OTjXSjb8EwP5",
        "outputId": "67ff5899-2247-4c14-bf65-6740b53b6b34"
      },
      "execution_count": 14,
      "outputs": [
        {
          "output_type": "display_data",
          "data": {
            "text/plain": [
              "<Figure size 432x288 with 1 Axes>"
            ],
            "image/png": "[encoded data removed]"
          },
          "metadata": {
            "needs_background": "light"
          }
        }
      ]
    },
    {
      "cell_type": "markdown",
      "source": [
        "As you can see the accuracy line is nearly touching the one and loss is minimum very close to zero. However, you can go ahead and draw some predictions using the model."
      ],
      "metadata": {
        "id": "5Pn0Oo2KOCtV"
      }
    },
    {
      "cell_type": "code",
      "source": [
        ""
      ],
      "metadata": {
        "id": "Ucu9-eZSODH1"
      },
      "execution_count": null,
      "outputs": []
    }
  ]
}